{
 "metadata": {
  "name": "",
  "signature": "sha256:3ecc8185d15e182645b3effc558bdad1dfbc52396aa1a2906666163a321fb6f9"
 },
 "nbformat": 3,
 "nbformat_minor": 0,
 "worksheets": [
  {
   "cells": [
    {
     "cell_type": "heading",
     "level": 1,
     "metadata": {},
     "source": [
      "Unicode/ascii problem during saving file"
     ]
    },
    {
     "cell_type": "code",
     "collapsed": false,
     "input": [
      "import sys\n",
      "reload(sys)\n",
      "sys.setdefaultencoding('UTF8')\n",
      "\n",
      "df.to_excel('sth.xlsx')"
     ],
     "language": "python",
     "metadata": {},
     "outputs": []
    },
    {
     "cell_type": "heading",
     "level": 1,
     "metadata": {},
     "source": [
      "Numba example - faster loops"
     ]
    },
    {
     "cell_type": "code",
     "collapsed": false,
     "input": [
      "from numba import jit\n",
      " \n",
      "l = [1,2,3,4,5,6,7,8,9,10]    \n",
      "\n",
      "@jit\n",
      "def numba_mean(x):\n",
      "    total = 0\n",
      "    for xi in x:\n",
      "        total += xi\n",
      "    return total / len(x)\n",
      "\n",
      "def normal_mean(x):\n",
      "    total = 0\n",
      "    for xi in x:\n",
      "        total += xi\n",
      "    return total / len(x)"
     ],
     "language": "python",
     "metadata": {},
     "outputs": [],
     "prompt_number": 14
    },
    {
     "cell_type": "code",
     "collapsed": false,
     "input": [
      "%timeit numba_mean(l)"
     ],
     "language": "python",
     "metadata": {},
     "outputs": [
      {
       "output_type": "stream",
       "stream": "stdout",
       "text": [
        "10000 loops, best of 3: 47.7 \u00b5s per loop\n"
       ]
      }
     ],
     "prompt_number": 20
    },
    {
     "cell_type": "code",
     "collapsed": false,
     "input": [
      "%timeit normal_mean(l)"
     ],
     "language": "python",
     "metadata": {},
     "outputs": [
      {
       "output_type": "stream",
       "stream": "stdout",
       "text": [
        "100000 loops, best of 3: 4.74 \u00b5s per loop\n"
       ]
      }
     ],
     "prompt_number": 21
    },
    {
     "cell_type": "code",
     "collapsed": false,
     "input": [],
     "language": "python",
     "metadata": {},
     "outputs": []
    }
   ],
   "metadata": {}
  }
 ]
}