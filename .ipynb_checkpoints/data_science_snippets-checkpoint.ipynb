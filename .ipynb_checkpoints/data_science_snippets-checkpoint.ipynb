{
 "metadata": {
  "name": "",
  "signature": "sha256:eb4dbf9f28bcf69a67bc2dac9240412413587681e464bfb0df23a223cca62d5d"
 },
 "nbformat": 3,
 "nbformat_minor": 0,
 "worksheets": [
  {
   "cells": [
    {
     "cell_type": "heading",
     "level": 1,
     "metadata": {},
     "source": [
      "Unicode/ascii problem during saving file"
     ]
    },
    {
     "cell_type": "code",
     "collapsed": false,
     "input": [
      "import sys\n",
      "reload(sys)\n",
      "sys.setdefaultencoding('UTF8')\n",
      "\n",
      "df.to_excel('sth.xlsx')"
     ],
     "language": "python",
     "metadata": {},
     "outputs": []
    }
   ],
   "metadata": {}
  }
 ]
}